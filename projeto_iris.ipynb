{
 "cells": [
  {
   "cell_type": "markdown",
   "metadata": {},
   "source": [
    "Primeiro vamos importar os packages que vaos utilizar no projeto."
   ]
  },
  {
   "cell_type": "code",
   "execution_count": 92,
   "metadata": {
    "scrolled": true
   },
   "outputs": [],
   "source": [
    "import pandas as pd\n",
    "import numpy as np\n",
    "import sklearn\n",
    "from matplotlib import pyplot as plt"
   ]
  },
  {
   "cell_type": "markdown",
   "metadata": {},
   "source": [
    "Logo abaixo está o dataset escolhido."
   ]
  },
  {
   "cell_type": "code",
   "execution_count": 55,
   "metadata": {
    "scrolled": true
   },
   "outputs": [
    {
     "data": {
      "text/html": [
       "<div>\n",
       "<style scoped>\n",
       "    .dataframe tbody tr th:only-of-type {\n",
       "        vertical-align: middle;\n",
       "    }\n",
       "\n",
       "    .dataframe tbody tr th {\n",
       "        vertical-align: top;\n",
       "    }\n",
       "\n",
       "    .dataframe thead th {\n",
       "        text-align: right;\n",
       "    }\n",
       "</style>\n",
       "<table border=\"1\" class=\"dataframe\">\n",
       "  <thead>\n",
       "    <tr style=\"text-align: right;\">\n",
       "      <th></th>\n",
       "      <th>sepal_length</th>\n",
       "      <th>sepal_width</th>\n",
       "      <th>petal_length</th>\n",
       "      <th>petal_width</th>\n",
       "      <th>species</th>\n",
       "    </tr>\n",
       "  </thead>\n",
       "  <tbody>\n",
       "    <tr>\n",
       "      <td>0</td>\n",
       "      <td>5.1</td>\n",
       "      <td>3.5</td>\n",
       "      <td>1.4</td>\n",
       "      <td>0.2</td>\n",
       "      <td>setosa</td>\n",
       "    </tr>\n",
       "    <tr>\n",
       "      <td>1</td>\n",
       "      <td>4.9</td>\n",
       "      <td>3.0</td>\n",
       "      <td>1.4</td>\n",
       "      <td>0.2</td>\n",
       "      <td>setosa</td>\n",
       "    </tr>\n",
       "    <tr>\n",
       "      <td>2</td>\n",
       "      <td>4.7</td>\n",
       "      <td>3.2</td>\n",
       "      <td>1.3</td>\n",
       "      <td>0.2</td>\n",
       "      <td>setosa</td>\n",
       "    </tr>\n",
       "    <tr>\n",
       "      <td>3</td>\n",
       "      <td>4.6</td>\n",
       "      <td>3.1</td>\n",
       "      <td>1.5</td>\n",
       "      <td>0.2</td>\n",
       "      <td>setosa</td>\n",
       "    </tr>\n",
       "    <tr>\n",
       "      <td>4</td>\n",
       "      <td>5.0</td>\n",
       "      <td>3.6</td>\n",
       "      <td>1.4</td>\n",
       "      <td>0.2</td>\n",
       "      <td>setosa</td>\n",
       "    </tr>\n",
       "    <tr>\n",
       "      <td>...</td>\n",
       "      <td>...</td>\n",
       "      <td>...</td>\n",
       "      <td>...</td>\n",
       "      <td>...</td>\n",
       "      <td>...</td>\n",
       "    </tr>\n",
       "    <tr>\n",
       "      <td>145</td>\n",
       "      <td>6.7</td>\n",
       "      <td>3.0</td>\n",
       "      <td>5.2</td>\n",
       "      <td>2.3</td>\n",
       "      <td>virginica</td>\n",
       "    </tr>\n",
       "    <tr>\n",
       "      <td>146</td>\n",
       "      <td>6.3</td>\n",
       "      <td>2.5</td>\n",
       "      <td>5.0</td>\n",
       "      <td>1.9</td>\n",
       "      <td>virginica</td>\n",
       "    </tr>\n",
       "    <tr>\n",
       "      <td>147</td>\n",
       "      <td>6.5</td>\n",
       "      <td>3.0</td>\n",
       "      <td>5.2</td>\n",
       "      <td>2.0</td>\n",
       "      <td>virginica</td>\n",
       "    </tr>\n",
       "    <tr>\n",
       "      <td>148</td>\n",
       "      <td>6.2</td>\n",
       "      <td>3.4</td>\n",
       "      <td>5.4</td>\n",
       "      <td>2.3</td>\n",
       "      <td>virginica</td>\n",
       "    </tr>\n",
       "    <tr>\n",
       "      <td>149</td>\n",
       "      <td>5.9</td>\n",
       "      <td>3.0</td>\n",
       "      <td>5.1</td>\n",
       "      <td>1.8</td>\n",
       "      <td>virginica</td>\n",
       "    </tr>\n",
       "  </tbody>\n",
       "</table>\n",
       "<p>150 rows × 5 columns</p>\n",
       "</div>"
      ],
      "text/plain": [
       "     sepal_length  sepal_width  petal_length  petal_width    species\n",
       "0             5.1          3.5           1.4          0.2     setosa\n",
       "1             4.9          3.0           1.4          0.2     setosa\n",
       "2             4.7          3.2           1.3          0.2     setosa\n",
       "3             4.6          3.1           1.5          0.2     setosa\n",
       "4             5.0          3.6           1.4          0.2     setosa\n",
       "..            ...          ...           ...          ...        ...\n",
       "145           6.7          3.0           5.2          2.3  virginica\n",
       "146           6.3          2.5           5.0          1.9  virginica\n",
       "147           6.5          3.0           5.2          2.0  virginica\n",
       "148           6.2          3.4           5.4          2.3  virginica\n",
       "149           5.9          3.0           5.1          1.8  virginica\n",
       "\n",
       "[150 rows x 5 columns]"
      ]
     },
     "execution_count": 55,
     "metadata": {},
     "output_type": "execute_result"
    }
   ],
   "source": [
    "dts = pd.read_csv(\"./iris.csv\") \n",
    "dts"
   ]
  },
  {
   "cell_type": "markdown",
   "metadata": {},
   "source": [
    "Aqui se tem um dataset de Ataque do coração\n",
    "fonte: https://www.kaggle.com/rashikrahmanpritom/heart-attack-analysis-prediction-dataset"
   ]
  },
  {
   "cell_type": "code",
   "execution_count": 58,
   "metadata": {
    "scrolled": false
   },
   "outputs": [
    {
     "name": "stdout",
     "output_type": "stream",
     "text": [
      "species\n",
      "setosa        5.006\n",
      "versicolor    5.936\n",
      "virginica     6.588\n",
      "Name: sepal_length, dtype: float64\n",
      "species\n",
      "setosa        0.352490\n",
      "versicolor    0.516171\n",
      "virginica     0.635880\n",
      "Name: sepal_length, dtype: float64\n"
     ]
    }
   ],
   "source": [
    "groupedBySpecies = dts.groupby(\"species\")\n",
    "print(groupedBySpecies[\"sepal_length\"].mean())\n",
    "print(groupedBySpecies[\"sepal_length\"].std())"
   ]
  },
  {
   "cell_type": "markdown",
   "metadata": {},
   "source": [
    "Na celula acima vemos que agrupando por espécies de flores a média o comprimento da sepala e seu desvio padrão."
   ]
  },
  {
   "cell_type": "code",
   "execution_count": 79,
   "metadata": {
    "scrolled": true
   },
   "outputs": [
    {
     "data": {
      "image/png": "[encoded data removed]",
      "text/plain": [
       "<Figure size 432x288 with 1 Axes>"
      ]
     },
     "metadata": {
      "needs_background": "light"
     },
     "output_type": "display_data"
    }
   ],
   "source": [
    "x = groupedBySpecies[\"petal_length\"].apply(lambda x: x.to_numpy())\n",
    "y = groupedBySpecies[\"petal_width\"].apply(lambda x: x.to_numpy())\n",
    "plt.scatter(x[\"setosa\"],y[\"setosa\"], color = \"green\")\n",
    "plt.scatter(x[\"virginica\"],y[\"virginica\"],color = \"purple\")\n",
    "plt.scatter(x[\"versicolor\"],y[\"versicolor\"], color = \"thistle\")\n",
    "plt.show()"
   ]
  },
  {
   "cell_type": "markdown",
   "metadata": {},
   "source": [
    "Agora foi feito um gráfico mostrando o comprimento da petala em comparação a largura da mesma.\n",
    "A partir destas duas informações é possível distinguir as especies."
   ]
  },
  {
   "cell_type": "code",
   "execution_count": 75,
   "metadata": {
    "scrolled": false
   },
   "outputs": [
    {
     "data": {
      "image/png": "[encoded data removed]",
      "text/plain": [
       "<Figure size 432x288 with 1 Axes>"
      ]
     },
     "metadata": {
      "needs_background": "light"
     },
     "output_type": "display_data"
    }
   ],
   "source": [
    "x = groupedBySpecies[\"sepal_length\"].apply(lambda x: x.to_numpy())\n",
    "y = groupedBySpecies[\"sepal_width\"].apply(lambda x: x.to_numpy())\n",
    "plt.scatter(x[\"setosa\"],y[\"setosa\"], color = \"green\")\n",
    "plt.scatter(x[\"virginica\"],y[\"virginica\"],color = \"purple\")\n",
    "plt.scatter(x[\"versicolor\"],y[\"versicolor\"], color = \"thistle\")\n",
    "plt.show()"
   ]
  },
  {
   "cell_type": "code",
   "execution_count": 91,
   "metadata": {},
   "outputs": [
    {
     "data": {
      "image/png": "[encoded data removed]",
      "text/plain": [
       "<Figure size 432x288 with 1 Axes>"
      ]
     },
     "metadata": {
      "needs_background": "light"
     },
     "output_type": "display_data"
    }
   ],
   "source": [
    "pl = groupedBySpecies[\"petal_length\"].apply(lambda x: x.to_numpy())\n",
    "pw = groupedBySpecies[\"petal_width\"].apply(lambda x: x.to_numpy())\n",
    "sl = groupedBySpecies[\"sepal_length\"].apply(lambda x: x.to_numpy())\n",
    "sw = groupedBySpecies[\"sepal_width\"].apply(lambda x: x.to_numpy())\n",
    "\n",
    "x = [pl[\"setosa\"][i]/sl[\"setosa\"][i] for i in range(len(pl[\"setosa\"]))]\n",
    "y = [pw[\"setosa\"][i]/sw[\"setosa\"][i] for i in range(len(sl[\"setosa\"]))]\n",
    "plt.scatter(x, y, color = \"green\")\n",
    "\n",
    "x = [pl[\"virginica\"][i]/sl[\"virginica\"][i] for i in range(len(pl[\"virginica\"]))]\n",
    "y = [pw[\"virginica\"][i]/sw[\"virginica\"][i] for i in range(len(sl[\"virginica\"]))]\n",
    "plt.scatter(x, y, color = \"purple\")\n",
    "\n",
    "x = [pl[\"versicolor\"][i]/sl[\"versicolor\"][i] for i in range(len(pl[\"versicolor\"]))]\n",
    "y = [pw[\"versicolor\"][i]/sw[\"versicolor\"][i] for i in range(len(sl[\"versicolor\"]))]\n",
    "plt.scatter(x, y, color = \"thistle\")\n",
    "plt.show()"
   ]
  },
  {
   "cell_type": "markdown",
   "metadata": {},
   "source": [
    "Agora iremos separar os dados em grupo de treinamento e grupo de teste"
   ]
  },
  {
   "cell_type": "code",
   "execution_count": 113,
   "metadata": {},
   "outputs": [
    {
     "name": "stdout",
     "output_type": "stream",
     "text": [
      "       species\n",
      "0       setosa\n",
      "1       setosa\n",
      "2       setosa\n",
      "3       setosa\n",
      "4       setosa\n",
      "..         ...\n",
      "145  virginica\n",
      "146  virginica\n",
      "147  virginica\n",
      "148  virginica\n",
      "149  virginica\n",
      "\n",
      "[150 rows x 1 columns]\n",
      "     species\n",
      "0          0\n",
      "1          0\n",
      "2          0\n",
      "3          0\n",
      "4          0\n",
      "..       ...\n",
      "145        2\n",
      "146        2\n",
      "147        2\n",
      "148        2\n",
      "149        2\n",
      "\n",
      "[150 rows x 1 columns]\n"
     ]
    }
   ],
   "source": [
    "from sklearn import preprocessing\n",
    "from sklearn.model_selection import train_test_split\n",
    "\n",
    "# Os valores de X serão os dados sobre o tamanho das pétalas e sépalas\n",
    "x = dts.iloc[:, 0:4]\n",
    "\n",
    "# O resultado que queremos é a espécie, que é a quinta coluna\n",
    "y = dts.select_dtypes(include=[object])\n",
    "print(y)\n",
    "\n",
    "# Transformamos as strings das espécies em ints enumerados de 0 a 2\n",
    "le = preprocessing.LabelEncoder()\n",
    "y = y.apply(le.fit_transform)\n",
    "print(y)\n",
    "\n",
    "# 0 -> setosa\n",
    "# 1 -> versicolor\n",
    "# 2 -> virginica\n",
    "\n",
    "# Montamos os conjuntos de treino e de teste, numa razão de 3 : 1\n",
    "xTrain, xTest, yTrain, yTest = train_test_split(X, y, train_size=0.75, test_size = 0.25)"
   ]
  },
  {
   "cell_type": "markdown",
   "metadata": {},
   "source": [
    "Depois, criamos um modelo e treinamos com xTrain e yTrain"
   ]
  },
  {
   "cell_type": "code",
   "execution_count": 111,
   "metadata": {},
   "outputs": [
    {
     "data": {
      "text/plain": [
       "MLPClassifier(activation='relu', alpha=0.0001, batch_size='auto', beta_1=0.9,\n",
       "              beta_2=0.999, early_stopping=False, epsilon=1e-08,\n",
       "              hidden_layer_sizes=(10, 10, 10), learning_rate='constant',\n",
       "              learning_rate_init=0.001, max_iter=1000, momentum=0.9,\n",
       "              n_iter_no_change=10, nesterovs_momentum=True, power_t=0.5,\n",
       "              random_state=None, shuffle=True, solver='adam', tol=0.0001,\n",
       "              validation_fraction=0.1, verbose=False, warm_start=False)"
      ]
     },
     "execution_count": 111,
     "metadata": {},
     "output_type": "execute_result"
    }
   ],
   "source": [
    "from sklearn.neural_network import MLPClassifier\n",
    "\n",
    "model = MLPClassifier(activation='relu', hidden_layer_sizes=(10, 10, 10), max_iter=1000)\n",
    "model.fit(xTrain, yTrain.values.ravel()) # o método ravel transforma as arrays aninhadas em uma única array"
   ]
  },
  {
   "cell_type": "markdown",
   "metadata": {},
   "source": [
    "Agora testamos o modelo treinado com o conjunto de teste"
   ]
  },
  {
   "cell_type": "code",
   "execution_count": 116,
   "metadata": {},
   "outputs": [
    {
     "name": "stdout",
     "output_type": "stream",
     "text": [
      "yTest = 2, prediction = 2\n",
      "yTest = 0, prediction = 0\n",
      "yTest = 0, prediction = 0\n",
      "yTest = 1, prediction = 1\n",
      "yTest = 2, prediction = 2\n",
      "yTest = 0, prediction = 0\n",
      "yTest = 2, prediction = 2\n",
      "yTest = 2, prediction = 2\n",
      "yTest = 0, prediction = 0\n",
      "yTest = 2, prediction = 2\n",
      "yTest = 0, prediction = 0\n",
      "yTest = 0, prediction = 0\n",
      "yTest = 1, prediction = 1\n",
      "yTest = 2, prediction = 2\n",
      "yTest = 2, prediction = 2\n",
      "yTest = 0, prediction = 0\n",
      "yTest = 1, prediction = 2\n",
      "yTest = 0, prediction = 0\n",
      "yTest = 0, prediction = 0\n",
      "yTest = 0, prediction = 0\n",
      "yTest = 0, prediction = 0\n",
      "yTest = 0, prediction = 0\n",
      "yTest = 0, prediction = 0\n",
      "yTest = 2, prediction = 2\n",
      "yTest = 2, prediction = 2\n",
      "yTest = 0, prediction = 0\n",
      "yTest = 0, prediction = 0\n",
      "yTest = 1, prediction = 1\n",
      "yTest = 1, prediction = 1\n",
      "yTest = 0, prediction = 0\n",
      "yTest = 1, prediction = 1\n",
      "yTest = 2, prediction = 2\n",
      "yTest = 2, prediction = 2\n",
      "yTest = 2, prediction = 2\n",
      "yTest = 2, prediction = 2\n",
      "yTest = 0, prediction = 0\n",
      "yTest = 0, prediction = 0\n",
      "yTest = 1, prediction = 1\n"
     ]
    }
   ],
   "source": [
    "predictions = model.predict(xTest)\n",
    "numToLabel = [\"setosa\", \"versicolor\", \"virginica\"]\n",
    "for i in range(len(predictions)):\n",
    "    print(f\"yTest = {yTest.values.ravel()[i]}, prediction = {predictions[i]}\")"
   ]
  },
  {
   "cell_type": "markdown",
   "metadata": {},
   "source": [
    "O modelo conseguiu prever com precisão bem alta, podemos verificar as propriedades do modelo para avaliar o quão bom ele está"
   ]
  },
  {
   "cell_type": "code",
   "execution_count": 117,
   "metadata": {},
   "outputs": [
    {
     "name": "stdout",
     "output_type": "stream",
     "text": [
      "[[18  0  0]\n",
      " [ 0  6  1]\n",
      " [ 0  0 13]]\n",
      "              precision    recall  f1-score   support\n",
      "\n",
      "           0       1.00      1.00      1.00        18\n",
      "           1       1.00      0.86      0.92         7\n",
      "           2       0.93      1.00      0.96        13\n",
      "\n",
      "    accuracy                           0.97        38\n",
      "   macro avg       0.98      0.95      0.96        38\n",
      "weighted avg       0.98      0.97      0.97        38\n",
      "\n"
     ]
    }
   ],
   "source": [
    "from sklearn.metrics import classification_report, confusion_matrix\n",
    "\n",
    "print(confusion_matrix(yTest, predictions))\n",
    "print(classification_report(yTest, predictions))"
   ]
  },
  {
   "cell_type": "code",
   "execution_count": null,
   "metadata": {},
   "outputs": [],
   "source": []
  }
 ],
 "metadata": {
  "kernelspec": {
   "display_name": "Python 3",
   "language": "python",
   "name": "python3"
  },
  "language_info": {
   "codemirror_mode": {
    "name": "ipython",
    "version": 3
   },
   "file_extension": ".py",
   "mimetype": "text/x-python",
   "name": "python",
   "nbconvert_exporter": "python",
   "pygments_lexer": "ipython3",
   "version": "3.7.4"
  }
 },
 "nbformat": 4,
 "nbformat_minor": 2
}
